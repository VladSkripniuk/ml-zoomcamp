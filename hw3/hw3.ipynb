{
 "cells": [
  {
   "cell_type": "code",
   "execution_count": 1,
   "metadata": {},
   "outputs": [],
   "source": [
    "%load_ext lab_black"
   ]
  },
  {
   "cell_type": "code",
   "execution_count": 2,
   "metadata": {},
   "outputs": [],
   "source": [
    "# ! wget https://raw.githubusercontent.com/alexeygrigorev/datasets/master/housing.csv"
   ]
  },
  {
   "cell_type": "code",
   "execution_count": 3,
   "metadata": {},
   "outputs": [],
   "source": [
    "import pandas as pd"
   ]
  },
  {
   "cell_type": "code",
   "execution_count": 4,
   "metadata": {},
   "outputs": [],
   "source": [
    "df = pd.read_csv(\"housing.csv\")"
   ]
  },
  {
   "cell_type": "code",
   "execution_count": 5,
   "metadata": {},
   "outputs": [],
   "source": [
    "df = df[\n",
    "    [\n",
    "        \"latitude\",\n",
    "        \"longitude\",\n",
    "        \"housing_median_age\",\n",
    "        \"total_rooms\",\n",
    "        \"total_bedrooms\",\n",
    "        \"population\",\n",
    "        \"households\",\n",
    "        \"median_income\",\n",
    "        \"median_house_value\",\n",
    "        \"ocean_proximity\",\n",
    "    ]\n",
    "]"
   ]
  },
  {
   "cell_type": "code",
   "execution_count": 6,
   "metadata": {},
   "outputs": [],
   "source": [
    "df.fillna(0, inplace=True)"
   ]
  },
  {
   "cell_type": "code",
   "execution_count": 7,
   "metadata": {},
   "outputs": [],
   "source": [
    "df[\"rooms_per_household\"] = df.total_rooms / df.households"
   ]
  },
  {
   "cell_type": "code",
   "execution_count": 8,
   "metadata": {},
   "outputs": [],
   "source": [
    "df[\"bedrooms_per_room\"] = df.total_bedrooms / df.total_rooms"
   ]
  },
  {
   "cell_type": "code",
   "execution_count": 9,
   "metadata": {},
   "outputs": [],
   "source": [
    "df[\"population_per_household\"] = df.population / df.households"
   ]
  },
  {
   "cell_type": "markdown",
   "metadata": {},
   "source": [
    "# Q1"
   ]
  },
  {
   "cell_type": "code",
   "execution_count": 10,
   "metadata": {},
   "outputs": [
    {
     "data": {
      "text/plain": [
       "<1H OCEAN     9136\n",
       "INLAND        6551\n",
       "NEAR OCEAN    2658\n",
       "NEAR BAY      2290\n",
       "ISLAND           5\n",
       "Name: ocean_proximity, dtype: int64"
      ]
     },
     "execution_count": 10,
     "metadata": {},
     "output_type": "execute_result"
    }
   ],
   "source": [
    "df.ocean_proximity.value_counts()"
   ]
  },
  {
   "cell_type": "code",
   "execution_count": 11,
   "metadata": {},
   "outputs": [],
   "source": [
    "from sklearn.model_selection import train_test_split"
   ]
  },
  {
   "cell_type": "code",
   "execution_count": 12,
   "metadata": {},
   "outputs": [],
   "source": [
    "import numpy as np"
   ]
  },
  {
   "cell_type": "code",
   "execution_count": 13,
   "metadata": {},
   "outputs": [],
   "source": [
    "idx = np.arange(len(df))"
   ]
  },
  {
   "cell_type": "code",
   "execution_count": 14,
   "metadata": {},
   "outputs": [],
   "source": [
    "idx_train_val, idx_test = train_test_split(idx, test_size=0.2, random_state=42)"
   ]
  },
  {
   "cell_type": "code",
   "execution_count": 15,
   "metadata": {},
   "outputs": [],
   "source": [
    "idx_train, idx_val = train_test_split(idx_train_val, test_size=0.25, random_state=42)"
   ]
  },
  {
   "cell_type": "code",
   "execution_count": 16,
   "metadata": {},
   "outputs": [],
   "source": [
    "X_train = df.iloc[idx_train].drop(\"median_house_value\", axis=1)\n",
    "X_val = df.iloc[idx_val].drop(\"median_house_value\", axis=1)\n",
    "X_test = df.iloc[idx_test].drop(\"median_house_value\", axis=1)\n",
    "\n",
    "y_train = df.iloc[idx_train].median_house_value\n",
    "y_val = df.iloc[idx_val].median_house_value\n",
    "y_test = df.iloc[idx_test].median_house_value"
   ]
  },
  {
   "cell_type": "markdown",
   "metadata": {},
   "source": [
    "# Q2"
   ]
  },
  {
   "cell_type": "code",
   "execution_count": 17,
   "metadata": {},
   "outputs": [
    {
     "data": {
      "text/html": [
       "<div>\n",
       "<style scoped>\n",
       "    .dataframe tbody tr th:only-of-type {\n",
       "        vertical-align: middle;\n",
       "    }\n",
       "\n",
       "    .dataframe tbody tr th {\n",
       "        vertical-align: top;\n",
       "    }\n",
       "\n",
       "    .dataframe thead th {\n",
       "        text-align: right;\n",
       "    }\n",
       "</style>\n",
       "<table border=\"1\" class=\"dataframe\">\n",
       "  <thead>\n",
       "    <tr style=\"text-align: right;\">\n",
       "      <th></th>\n",
       "      <th>latitude</th>\n",
       "      <th>longitude</th>\n",
       "      <th>housing_median_age</th>\n",
       "      <th>total_rooms</th>\n",
       "      <th>total_bedrooms</th>\n",
       "      <th>population</th>\n",
       "      <th>households</th>\n",
       "      <th>median_income</th>\n",
       "      <th>rooms_per_household</th>\n",
       "      <th>bedrooms_per_room</th>\n",
       "      <th>population_per_household</th>\n",
       "    </tr>\n",
       "  </thead>\n",
       "  <tbody>\n",
       "    <tr>\n",
       "      <th>latitude</th>\n",
       "      <td>1.000000</td>\n",
       "      <td>-0.925005</td>\n",
       "      <td>0.002477</td>\n",
       "      <td>-0.025914</td>\n",
       "      <td>-0.059730</td>\n",
       "      <td>-0.100272</td>\n",
       "      <td>-0.063529</td>\n",
       "      <td>-0.076805</td>\n",
       "      <td>0.119118</td>\n",
       "      <td>-0.124507</td>\n",
       "      <td>-0.002301</td>\n",
       "    </tr>\n",
       "    <tr>\n",
       "      <th>longitude</th>\n",
       "      <td>-0.925005</td>\n",
       "      <td>1.000000</td>\n",
       "      <td>-0.099812</td>\n",
       "      <td>0.036449</td>\n",
       "      <td>0.063840</td>\n",
       "      <td>0.091670</td>\n",
       "      <td>0.049762</td>\n",
       "      <td>-0.016426</td>\n",
       "      <td>-0.034814</td>\n",
       "      <td>0.102320</td>\n",
       "      <td>0.011022</td>\n",
       "    </tr>\n",
       "    <tr>\n",
       "      <th>housing_median_age</th>\n",
       "      <td>0.002477</td>\n",
       "      <td>-0.099812</td>\n",
       "      <td>1.000000</td>\n",
       "      <td>-0.363522</td>\n",
       "      <td>-0.324156</td>\n",
       "      <td>-0.292476</td>\n",
       "      <td>-0.306119</td>\n",
       "      <td>-0.119591</td>\n",
       "      <td>-0.181275</td>\n",
       "      <td>0.129456</td>\n",
       "      <td>0.012167</td>\n",
       "    </tr>\n",
       "    <tr>\n",
       "      <th>total_rooms</th>\n",
       "      <td>-0.025914</td>\n",
       "      <td>0.036449</td>\n",
       "      <td>-0.363522</td>\n",
       "      <td>1.000000</td>\n",
       "      <td>0.931546</td>\n",
       "      <td>0.853219</td>\n",
       "      <td>0.921441</td>\n",
       "      <td>0.198951</td>\n",
       "      <td>0.168926</td>\n",
       "      <td>-0.194185</td>\n",
       "      <td>-0.029452</td>\n",
       "    </tr>\n",
       "    <tr>\n",
       "      <th>total_bedrooms</th>\n",
       "      <td>-0.059730</td>\n",
       "      <td>0.063840</td>\n",
       "      <td>-0.324156</td>\n",
       "      <td>0.931546</td>\n",
       "      <td>1.000000</td>\n",
       "      <td>0.877340</td>\n",
       "      <td>0.979399</td>\n",
       "      <td>-0.009833</td>\n",
       "      <td>0.010381</td>\n",
       "      <td>0.078094</td>\n",
       "      <td>-0.034301</td>\n",
       "    </tr>\n",
       "    <tr>\n",
       "      <th>population</th>\n",
       "      <td>-0.100272</td>\n",
       "      <td>0.091670</td>\n",
       "      <td>-0.292476</td>\n",
       "      <td>0.853219</td>\n",
       "      <td>0.877340</td>\n",
       "      <td>1.000000</td>\n",
       "      <td>0.906841</td>\n",
       "      <td>-0.000849</td>\n",
       "      <td>-0.076210</td>\n",
       "      <td>0.031592</td>\n",
       "      <td>0.064998</td>\n",
       "    </tr>\n",
       "    <tr>\n",
       "      <th>households</th>\n",
       "      <td>-0.063529</td>\n",
       "      <td>0.049762</td>\n",
       "      <td>-0.306119</td>\n",
       "      <td>0.921441</td>\n",
       "      <td>0.979399</td>\n",
       "      <td>0.906841</td>\n",
       "      <td>1.000000</td>\n",
       "      <td>0.011925</td>\n",
       "      <td>-0.085832</td>\n",
       "      <td>0.058004</td>\n",
       "      <td>-0.032522</td>\n",
       "    </tr>\n",
       "    <tr>\n",
       "      <th>median_income</th>\n",
       "      <td>-0.076805</td>\n",
       "      <td>-0.016426</td>\n",
       "      <td>-0.119591</td>\n",
       "      <td>0.198951</td>\n",
       "      <td>-0.009833</td>\n",
       "      <td>-0.000849</td>\n",
       "      <td>0.011925</td>\n",
       "      <td>1.000000</td>\n",
       "      <td>0.394154</td>\n",
       "      <td>-0.616617</td>\n",
       "      <td>-0.000454</td>\n",
       "    </tr>\n",
       "    <tr>\n",
       "      <th>rooms_per_household</th>\n",
       "      <td>0.119118</td>\n",
       "      <td>-0.034814</td>\n",
       "      <td>-0.181275</td>\n",
       "      <td>0.168926</td>\n",
       "      <td>0.010381</td>\n",
       "      <td>-0.076210</td>\n",
       "      <td>-0.085832</td>\n",
       "      <td>0.394154</td>\n",
       "      <td>1.000000</td>\n",
       "      <td>-0.500589</td>\n",
       "      <td>0.001801</td>\n",
       "    </tr>\n",
       "    <tr>\n",
       "      <th>bedrooms_per_room</th>\n",
       "      <td>-0.124507</td>\n",
       "      <td>0.102320</td>\n",
       "      <td>0.129456</td>\n",
       "      <td>-0.194185</td>\n",
       "      <td>0.078094</td>\n",
       "      <td>0.031592</td>\n",
       "      <td>0.058004</td>\n",
       "      <td>-0.616617</td>\n",
       "      <td>-0.500589</td>\n",
       "      <td>1.000000</td>\n",
       "      <td>-0.002851</td>\n",
       "    </tr>\n",
       "    <tr>\n",
       "      <th>population_per_household</th>\n",
       "      <td>-0.002301</td>\n",
       "      <td>0.011022</td>\n",
       "      <td>0.012167</td>\n",
       "      <td>-0.029452</td>\n",
       "      <td>-0.034301</td>\n",
       "      <td>0.064998</td>\n",
       "      <td>-0.032522</td>\n",
       "      <td>-0.000454</td>\n",
       "      <td>0.001801</td>\n",
       "      <td>-0.002851</td>\n",
       "      <td>1.000000</td>\n",
       "    </tr>\n",
       "  </tbody>\n",
       "</table>\n",
       "</div>"
      ],
      "text/plain": [
       "                          latitude  longitude  housing_median_age  \\\n",
       "latitude                  1.000000  -0.925005            0.002477   \n",
       "longitude                -0.925005   1.000000           -0.099812   \n",
       "housing_median_age        0.002477  -0.099812            1.000000   \n",
       "total_rooms              -0.025914   0.036449           -0.363522   \n",
       "total_bedrooms           -0.059730   0.063840           -0.324156   \n",
       "population               -0.100272   0.091670           -0.292476   \n",
       "households               -0.063529   0.049762           -0.306119   \n",
       "median_income            -0.076805  -0.016426           -0.119591   \n",
       "rooms_per_household       0.119118  -0.034814           -0.181275   \n",
       "bedrooms_per_room        -0.124507   0.102320            0.129456   \n",
       "population_per_household -0.002301   0.011022            0.012167   \n",
       "\n",
       "                          total_rooms  total_bedrooms  population  households  \\\n",
       "latitude                    -0.025914       -0.059730   -0.100272   -0.063529   \n",
       "longitude                    0.036449        0.063840    0.091670    0.049762   \n",
       "housing_median_age          -0.363522       -0.324156   -0.292476   -0.306119   \n",
       "total_rooms                  1.000000        0.931546    0.853219    0.921441   \n",
       "total_bedrooms               0.931546        1.000000    0.877340    0.979399   \n",
       "population                   0.853219        0.877340    1.000000    0.906841   \n",
       "households                   0.921441        0.979399    0.906841    1.000000   \n",
       "median_income                0.198951       -0.009833   -0.000849    0.011925   \n",
       "rooms_per_household          0.168926        0.010381   -0.076210   -0.085832   \n",
       "bedrooms_per_room           -0.194185        0.078094    0.031592    0.058004   \n",
       "population_per_household    -0.029452       -0.034301    0.064998   -0.032522   \n",
       "\n",
       "                          median_income  rooms_per_household  \\\n",
       "latitude                      -0.076805             0.119118   \n",
       "longitude                     -0.016426            -0.034814   \n",
       "housing_median_age            -0.119591            -0.181275   \n",
       "total_rooms                    0.198951             0.168926   \n",
       "total_bedrooms                -0.009833             0.010381   \n",
       "population                    -0.000849            -0.076210   \n",
       "households                     0.011925            -0.085832   \n",
       "median_income                  1.000000             0.394154   \n",
       "rooms_per_household            0.394154             1.000000   \n",
       "bedrooms_per_room             -0.616617            -0.500589   \n",
       "population_per_household      -0.000454             0.001801   \n",
       "\n",
       "                          bedrooms_per_room  population_per_household  \n",
       "latitude                          -0.124507                 -0.002301  \n",
       "longitude                          0.102320                  0.011022  \n",
       "housing_median_age                 0.129456                  0.012167  \n",
       "total_rooms                       -0.194185                 -0.029452  \n",
       "total_bedrooms                     0.078094                 -0.034301  \n",
       "population                         0.031592                  0.064998  \n",
       "households                         0.058004                 -0.032522  \n",
       "median_income                     -0.616617                 -0.000454  \n",
       "rooms_per_household               -0.500589                  0.001801  \n",
       "bedrooms_per_room                  1.000000                 -0.002851  \n",
       "population_per_household          -0.002851                  1.000000  "
      ]
     },
     "execution_count": 17,
     "metadata": {},
     "output_type": "execute_result"
    }
   ],
   "source": [
    "X_train.corr()"
   ]
  },
  {
   "cell_type": "markdown",
   "metadata": {},
   "source": [
    "* total_bedrooms and households have highest correlation 0.9794"
   ]
  },
  {
   "cell_type": "code",
   "execution_count": 18,
   "metadata": {},
   "outputs": [
    {
     "data": {
      "text/plain": [
       "206807.7419250646"
      ]
     },
     "execution_count": 18,
     "metadata": {},
     "output_type": "execute_result"
    }
   ],
   "source": [
    "median_house_value_avg = y_train.mean()\n",
    "median_house_value_avg"
   ]
  },
  {
   "cell_type": "code",
   "execution_count": 19,
   "metadata": {},
   "outputs": [],
   "source": [
    "y_train_bin = y_train > median_house_value_avg\n",
    "y_val_bin = y_val > median_house_value_avg\n",
    "y_test_bin = y_test > median_house_value_avg"
   ]
  },
  {
   "cell_type": "code",
   "execution_count": 20,
   "metadata": {},
   "outputs": [],
   "source": [
    "from sklearn.metrics import mutual_info_score"
   ]
  },
  {
   "cell_type": "code",
   "execution_count": 21,
   "metadata": {},
   "outputs": [],
   "source": [
    "from functools import partial"
   ]
  },
  {
   "cell_type": "code",
   "execution_count": 22,
   "metadata": {},
   "outputs": [
    {
     "data": {
      "text/plain": [
       "0.2682495050746932"
      ]
     },
     "execution_count": 22,
     "metadata": {},
     "output_type": "execute_result"
    }
   ],
   "source": [
    "mutual_info_score(y_train_bin, X_train.total_rooms)"
   ]
  },
  {
   "cell_type": "markdown",
   "metadata": {},
   "source": [
    "# Q3"
   ]
  },
  {
   "cell_type": "code",
   "execution_count": 23,
   "metadata": {},
   "outputs": [
    {
     "name": "stderr",
     "output_type": "stream",
     "text": [
      "/home/vladislav/anaconda3/envs/ml-zoomcamp/lib/python3.9/site-packages/sklearn/metrics/cluster/_supervised.py:64: UserWarning: Clustering metrics expects discrete values but received binary values for label, and continuous values for target\n",
      "  warnings.warn(msg, UserWarning)\n",
      "/home/vladislav/anaconda3/envs/ml-zoomcamp/lib/python3.9/site-packages/sklearn/metrics/cluster/_supervised.py:64: UserWarning: Clustering metrics expects discrete values but received binary values for label, and continuous values for target\n",
      "  warnings.warn(msg, UserWarning)\n",
      "/home/vladislav/anaconda3/envs/ml-zoomcamp/lib/python3.9/site-packages/sklearn/metrics/cluster/_supervised.py:64: UserWarning: Clustering metrics expects discrete values but received binary values for label, and continuous values for target\n",
      "  warnings.warn(msg, UserWarning)\n",
      "/home/vladislav/anaconda3/envs/ml-zoomcamp/lib/python3.9/site-packages/sklearn/metrics/cluster/_supervised.py:64: UserWarning: Clustering metrics expects discrete values but received binary values for label, and continuous values for target\n",
      "  warnings.warn(msg, UserWarning)\n",
      "/home/vladislav/anaconda3/envs/ml-zoomcamp/lib/python3.9/site-packages/sklearn/metrics/cluster/_supervised.py:64: UserWarning: Clustering metrics expects discrete values but received binary values for label, and continuous values for target\n",
      "  warnings.warn(msg, UserWarning)\n",
      "/home/vladislav/anaconda3/envs/ml-zoomcamp/lib/python3.9/site-packages/sklearn/metrics/cluster/_supervised.py:64: UserWarning: Clustering metrics expects discrete values but received binary values for label, and continuous values for target\n",
      "  warnings.warn(msg, UserWarning)\n"
     ]
    },
    {
     "data": {
      "text/plain": [
       "latitude                    0.156040\n",
       "longitude                   0.178880\n",
       "housing_median_age          0.013672\n",
       "total_rooms                 0.268250\n",
       "total_bedrooms              0.085501\n",
       "population                  0.175275\n",
       "households                  0.079897\n",
       "median_income               0.521072\n",
       "ocean_proximity             0.101384\n",
       "rooms_per_household         0.651019\n",
       "bedrooms_per_room           0.654318\n",
       "population_per_household    0.637922\n",
       "dtype: float64"
      ]
     },
     "execution_count": 23,
     "metadata": {},
     "output_type": "execute_result"
    }
   ],
   "source": [
    "X_train.apply(partial(mutual_info_score, y_train_bin), axis=0)"
   ]
  },
  {
   "cell_type": "code",
   "execution_count": 24,
   "metadata": {},
   "outputs": [],
   "source": [
    "from sklearn.linear_model import LogisticRegression"
   ]
  },
  {
   "cell_type": "code",
   "execution_count": 25,
   "metadata": {},
   "outputs": [],
   "source": [
    "from sklearn.feature_extraction import DictVectorizer"
   ]
  },
  {
   "cell_type": "code",
   "execution_count": 26,
   "metadata": {},
   "outputs": [],
   "source": [
    "dicts_train = X_train[[\"ocean_proximity\"]].to_dict(orient=\"records\")\n",
    "dicts_val = X_val[[\"ocean_proximity\"]].to_dict(orient=\"records\")\n",
    "dicts_test = X_test[[\"ocean_proximity\"]].to_dict(orient=\"records\")"
   ]
  },
  {
   "cell_type": "code",
   "execution_count": 27,
   "metadata": {},
   "outputs": [],
   "source": [
    "dv = DictVectorizer(sparse=False)"
   ]
  },
  {
   "cell_type": "code",
   "execution_count": 28,
   "metadata": {},
   "outputs": [
    {
     "data": {
      "text/html": [
       "<style>#sk-container-id-1 {color: black;background-color: white;}#sk-container-id-1 pre{padding: 0;}#sk-container-id-1 div.sk-toggleable {background-color: white;}#sk-container-id-1 label.sk-toggleable__label {cursor: pointer;display: block;width: 100%;margin-bottom: 0;padding: 0.3em;box-sizing: border-box;text-align: center;}#sk-container-id-1 label.sk-toggleable__label-arrow:before {content: \"▸\";float: left;margin-right: 0.25em;color: #696969;}#sk-container-id-1 label.sk-toggleable__label-arrow:hover:before {color: black;}#sk-container-id-1 div.sk-estimator:hover label.sk-toggleable__label-arrow:before {color: black;}#sk-container-id-1 div.sk-toggleable__content {max-height: 0;max-width: 0;overflow: hidden;text-align: left;background-color: #f0f8ff;}#sk-container-id-1 div.sk-toggleable__content pre {margin: 0.2em;color: black;border-radius: 0.25em;background-color: #f0f8ff;}#sk-container-id-1 input.sk-toggleable__control:checked~div.sk-toggleable__content {max-height: 200px;max-width: 100%;overflow: auto;}#sk-container-id-1 input.sk-toggleable__control:checked~label.sk-toggleable__label-arrow:before {content: \"▾\";}#sk-container-id-1 div.sk-estimator input.sk-toggleable__control:checked~label.sk-toggleable__label {background-color: #d4ebff;}#sk-container-id-1 div.sk-label input.sk-toggleable__control:checked~label.sk-toggleable__label {background-color: #d4ebff;}#sk-container-id-1 input.sk-hidden--visually {border: 0;clip: rect(1px 1px 1px 1px);clip: rect(1px, 1px, 1px, 1px);height: 1px;margin: -1px;overflow: hidden;padding: 0;position: absolute;width: 1px;}#sk-container-id-1 div.sk-estimator {font-family: monospace;background-color: #f0f8ff;border: 1px dotted black;border-radius: 0.25em;box-sizing: border-box;margin-bottom: 0.5em;}#sk-container-id-1 div.sk-estimator:hover {background-color: #d4ebff;}#sk-container-id-1 div.sk-parallel-item::after {content: \"\";width: 100%;border-bottom: 1px solid gray;flex-grow: 1;}#sk-container-id-1 div.sk-label:hover label.sk-toggleable__label {background-color: #d4ebff;}#sk-container-id-1 div.sk-serial::before {content: \"\";position: absolute;border-left: 1px solid gray;box-sizing: border-box;top: 0;bottom: 0;left: 50%;z-index: 0;}#sk-container-id-1 div.sk-serial {display: flex;flex-direction: column;align-items: center;background-color: white;padding-right: 0.2em;padding-left: 0.2em;position: relative;}#sk-container-id-1 div.sk-item {position: relative;z-index: 1;}#sk-container-id-1 div.sk-parallel {display: flex;align-items: stretch;justify-content: center;background-color: white;position: relative;}#sk-container-id-1 div.sk-item::before, #sk-container-id-1 div.sk-parallel-item::before {content: \"\";position: absolute;border-left: 1px solid gray;box-sizing: border-box;top: 0;bottom: 0;left: 50%;z-index: -1;}#sk-container-id-1 div.sk-parallel-item {display: flex;flex-direction: column;z-index: 1;position: relative;background-color: white;}#sk-container-id-1 div.sk-parallel-item:first-child::after {align-self: flex-end;width: 50%;}#sk-container-id-1 div.sk-parallel-item:last-child::after {align-self: flex-start;width: 50%;}#sk-container-id-1 div.sk-parallel-item:only-child::after {width: 0;}#sk-container-id-1 div.sk-dashed-wrapped {border: 1px dashed gray;margin: 0 0.4em 0.5em 0.4em;box-sizing: border-box;padding-bottom: 0.4em;background-color: white;}#sk-container-id-1 div.sk-label label {font-family: monospace;font-weight: bold;display: inline-block;line-height: 1.2em;}#sk-container-id-1 div.sk-label-container {text-align: center;}#sk-container-id-1 div.sk-container {/* jupyter's `normalize.less` sets `[hidden] { display: none; }` but bootstrap.min.css set `[hidden] { display: none !important; }` so we also need the `!important` here to be able to override the default hidden behavior on the sphinx rendered scikit-learn.org. See: https://github.com/scikit-learn/scikit-learn/issues/21755 */display: inline-block !important;position: relative;}#sk-container-id-1 div.sk-text-repr-fallback {display: none;}</style><div id=\"sk-container-id-1\" class=\"sk-top-container\"><div class=\"sk-text-repr-fallback\"><pre>DictVectorizer(sparse=False)</pre><b>In a Jupyter environment, please rerun this cell to show the HTML representation or trust the notebook. <br />On GitHub, the HTML representation is unable to render, please try loading this page with nbviewer.org.</b></div><div class=\"sk-container\" hidden><div class=\"sk-item\"><div class=\"sk-estimator sk-toggleable\"><input class=\"sk-toggleable__control sk-hidden--visually\" id=\"sk-estimator-id-1\" type=\"checkbox\" checked><label for=\"sk-estimator-id-1\" class=\"sk-toggleable__label sk-toggleable__label-arrow\">DictVectorizer</label><div class=\"sk-toggleable__content\"><pre>DictVectorizer(sparse=False)</pre></div></div></div></div></div>"
      ],
      "text/plain": [
       "DictVectorizer(sparse=False)"
      ]
     },
     "execution_count": 28,
     "metadata": {},
     "output_type": "execute_result"
    }
   ],
   "source": [
    "dv.fit(dicts_train)"
   ]
  },
  {
   "cell_type": "code",
   "execution_count": 29,
   "metadata": {},
   "outputs": [
    {
     "data": {
      "text/plain": [
       "array([[1., 0., 0., 0., 0.],\n",
       "       [0., 0., 0., 0., 1.],\n",
       "       [0., 1., 0., 0., 0.],\n",
       "       ...,\n",
       "       [1., 0., 0., 0., 0.],\n",
       "       [1., 0., 0., 0., 0.],\n",
       "       [1., 0., 0., 0., 0.]])"
      ]
     },
     "execution_count": 29,
     "metadata": {},
     "output_type": "execute_result"
    }
   ],
   "source": [
    "dv.transform(dicts_train)"
   ]
  },
  {
   "cell_type": "code",
   "execution_count": 30,
   "metadata": {},
   "outputs": [],
   "source": [
    "X_train_arr = np.concatenate(\n",
    "    [X_train.drop(\"ocean_proximity\", axis=1).values, dv.transform(dicts_train)], axis=1\n",
    ")\n",
    "X_val_arr = np.concatenate(\n",
    "    [X_val.drop(\"ocean_proximity\", axis=1).values, dv.transform(dicts_val)], axis=1\n",
    ")\n",
    "X_test_arr = np.concatenate(\n",
    "    [X_test.drop(\"ocean_proximity\", axis=1).values, dv.transform(dicts_test)], axis=1\n",
    ")"
   ]
  },
  {
   "cell_type": "code",
   "execution_count": 52,
   "metadata": {},
   "outputs": [
    {
     "data": {
      "text/plain": [
       "(12384, 16)"
      ]
     },
     "execution_count": 52,
     "metadata": {},
     "output_type": "execute_result"
    }
   ],
   "source": [
    "X_train_arr.shape"
   ]
  },
  {
   "cell_type": "code",
   "execution_count": 40,
   "metadata": {},
   "outputs": [],
   "source": [
    "model = LogisticRegression(solver=\"liblinear\", C=1.0, max_iter=1000, random_state=42)"
   ]
  },
  {
   "cell_type": "code",
   "execution_count": 41,
   "metadata": {},
   "outputs": [
    {
     "data": {
      "text/html": [
       "<style>#sk-container-id-2 {color: black;background-color: white;}#sk-container-id-2 pre{padding: 0;}#sk-container-id-2 div.sk-toggleable {background-color: white;}#sk-container-id-2 label.sk-toggleable__label {cursor: pointer;display: block;width: 100%;margin-bottom: 0;padding: 0.3em;box-sizing: border-box;text-align: center;}#sk-container-id-2 label.sk-toggleable__label-arrow:before {content: \"▸\";float: left;margin-right: 0.25em;color: #696969;}#sk-container-id-2 label.sk-toggleable__label-arrow:hover:before {color: black;}#sk-container-id-2 div.sk-estimator:hover label.sk-toggleable__label-arrow:before {color: black;}#sk-container-id-2 div.sk-toggleable__content {max-height: 0;max-width: 0;overflow: hidden;text-align: left;background-color: #f0f8ff;}#sk-container-id-2 div.sk-toggleable__content pre {margin: 0.2em;color: black;border-radius: 0.25em;background-color: #f0f8ff;}#sk-container-id-2 input.sk-toggleable__control:checked~div.sk-toggleable__content {max-height: 200px;max-width: 100%;overflow: auto;}#sk-container-id-2 input.sk-toggleable__control:checked~label.sk-toggleable__label-arrow:before {content: \"▾\";}#sk-container-id-2 div.sk-estimator input.sk-toggleable__control:checked~label.sk-toggleable__label {background-color: #d4ebff;}#sk-container-id-2 div.sk-label input.sk-toggleable__control:checked~label.sk-toggleable__label {background-color: #d4ebff;}#sk-container-id-2 input.sk-hidden--visually {border: 0;clip: rect(1px 1px 1px 1px);clip: rect(1px, 1px, 1px, 1px);height: 1px;margin: -1px;overflow: hidden;padding: 0;position: absolute;width: 1px;}#sk-container-id-2 div.sk-estimator {font-family: monospace;background-color: #f0f8ff;border: 1px dotted black;border-radius: 0.25em;box-sizing: border-box;margin-bottom: 0.5em;}#sk-container-id-2 div.sk-estimator:hover {background-color: #d4ebff;}#sk-container-id-2 div.sk-parallel-item::after {content: \"\";width: 100%;border-bottom: 1px solid gray;flex-grow: 1;}#sk-container-id-2 div.sk-label:hover label.sk-toggleable__label {background-color: #d4ebff;}#sk-container-id-2 div.sk-serial::before {content: \"\";position: absolute;border-left: 1px solid gray;box-sizing: border-box;top: 0;bottom: 0;left: 50%;z-index: 0;}#sk-container-id-2 div.sk-serial {display: flex;flex-direction: column;align-items: center;background-color: white;padding-right: 0.2em;padding-left: 0.2em;position: relative;}#sk-container-id-2 div.sk-item {position: relative;z-index: 1;}#sk-container-id-2 div.sk-parallel {display: flex;align-items: stretch;justify-content: center;background-color: white;position: relative;}#sk-container-id-2 div.sk-item::before, #sk-container-id-2 div.sk-parallel-item::before {content: \"\";position: absolute;border-left: 1px solid gray;box-sizing: border-box;top: 0;bottom: 0;left: 50%;z-index: -1;}#sk-container-id-2 div.sk-parallel-item {display: flex;flex-direction: column;z-index: 1;position: relative;background-color: white;}#sk-container-id-2 div.sk-parallel-item:first-child::after {align-self: flex-end;width: 50%;}#sk-container-id-2 div.sk-parallel-item:last-child::after {align-self: flex-start;width: 50%;}#sk-container-id-2 div.sk-parallel-item:only-child::after {width: 0;}#sk-container-id-2 div.sk-dashed-wrapped {border: 1px dashed gray;margin: 0 0.4em 0.5em 0.4em;box-sizing: border-box;padding-bottom: 0.4em;background-color: white;}#sk-container-id-2 div.sk-label label {font-family: monospace;font-weight: bold;display: inline-block;line-height: 1.2em;}#sk-container-id-2 div.sk-label-container {text-align: center;}#sk-container-id-2 div.sk-container {/* jupyter's `normalize.less` sets `[hidden] { display: none; }` but bootstrap.min.css set `[hidden] { display: none !important; }` so we also need the `!important` here to be able to override the default hidden behavior on the sphinx rendered scikit-learn.org. See: https://github.com/scikit-learn/scikit-learn/issues/21755 */display: inline-block !important;position: relative;}#sk-container-id-2 div.sk-text-repr-fallback {display: none;}</style><div id=\"sk-container-id-2\" class=\"sk-top-container\"><div class=\"sk-text-repr-fallback\"><pre>LogisticRegression(max_iter=1000, random_state=42, solver=&#x27;liblinear&#x27;)</pre><b>In a Jupyter environment, please rerun this cell to show the HTML representation or trust the notebook. <br />On GitHub, the HTML representation is unable to render, please try loading this page with nbviewer.org.</b></div><div class=\"sk-container\" hidden><div class=\"sk-item\"><div class=\"sk-estimator sk-toggleable\"><input class=\"sk-toggleable__control sk-hidden--visually\" id=\"sk-estimator-id-2\" type=\"checkbox\" checked><label for=\"sk-estimator-id-2\" class=\"sk-toggleable__label sk-toggleable__label-arrow\">LogisticRegression</label><div class=\"sk-toggleable__content\"><pre>LogisticRegression(max_iter=1000, random_state=42, solver=&#x27;liblinear&#x27;)</pre></div></div></div></div></div>"
      ],
      "text/plain": [
       "LogisticRegression(max_iter=1000, random_state=42, solver='liblinear')"
      ]
     },
     "execution_count": 41,
     "metadata": {},
     "output_type": "execute_result"
    }
   ],
   "source": [
    "model.fit(X_train_arr, y_train_bin.values)"
   ]
  },
  {
   "cell_type": "code",
   "execution_count": 42,
   "metadata": {},
   "outputs": [],
   "source": [
    "from sklearn.metrics import accuracy_score"
   ]
  },
  {
   "cell_type": "markdown",
   "metadata": {},
   "source": [
    "# Q4"
   ]
  },
  {
   "cell_type": "code",
   "execution_count": 44,
   "metadata": {},
   "outputs": [
    {
     "data": {
      "text/plain": [
       "0.8364825581395349"
      ]
     },
     "execution_count": 44,
     "metadata": {},
     "output_type": "execute_result"
    }
   ],
   "source": [
    "accuracy_score(model.predict(X_val_arr), y_val_bin.values)"
   ]
  },
  {
   "cell_type": "code",
   "execution_count": 46,
   "metadata": {},
   "outputs": [
    {
     "name": "stdout",
     "output_type": "stream",
     "text": [
      "Eliminated latitude - accuracy is 0.8343023255813954.\n",
      "Eliminated longitude - accuracy is 0.8326065891472868.\n",
      "Eliminated housing_median_age - accuracy is 0.8313953488372093.\n",
      "Eliminated total_rooms - accuracy is 0.8364825581395349.\n",
      "Eliminated total_bedrooms - accuracy is 0.8376937984496124.\n",
      "Eliminated population - accuracy is 0.8263081395348837.\n",
      "Eliminated households - accuracy is 0.8328488372093024.\n",
      "Eliminated median_income - accuracy is 0.7856104651162791.\n",
      "Eliminated ocean_proximity - accuracy is 0.8197674418604651.\n",
      "Eliminated rooms_per_household - accuracy is 0.8364825581395349.\n",
      "Eliminated bedrooms_per_room - accuracy is 0.8352713178294574.\n",
      "Eliminated population_per_household - accuracy is 0.8355135658914729.\n"
     ]
    }
   ],
   "source": [
    "accuracies = []\n",
    "\n",
    "for feature in X_train.columns:\n",
    "    if feature == \"ocean_proximity\":\n",
    "        X_train_arr = X_train.drop([\"ocean_proximity\", feature], axis=1).values\n",
    "        X_val_arr = X_val.drop([\"ocean_proximity\", feature], axis=1).values\n",
    "        X_test_arr = X_test.drop([\"ocean_proximity\", feature], axis=1).values\n",
    "    else:\n",
    "        X_train_arr = np.concatenate(\n",
    "            [\n",
    "                X_train.drop([\"ocean_proximity\", feature], axis=1).values,\n",
    "                dv.transform(dicts_train),\n",
    "            ],\n",
    "            axis=1,\n",
    "        )\n",
    "        X_val_arr = np.concatenate(\n",
    "            [\n",
    "                X_val.drop([\"ocean_proximity\", feature], axis=1).values,\n",
    "                dv.transform(dicts_val),\n",
    "            ],\n",
    "            axis=1,\n",
    "        )\n",
    "        X_test_arr = np.concatenate(\n",
    "            [\n",
    "                X_test.drop([\"ocean_proximity\", feature], axis=1).values,\n",
    "                dv.transform(dicts_test),\n",
    "            ],\n",
    "            axis=1,\n",
    "        )\n",
    "\n",
    "    model.fit(X_train_arr, y_train_bin.values)\n",
    "    val_accuracy = accuracy_score(model.predict(X_val_arr), y_val_bin.values)\n",
    "    print(f\"Eliminated {feature} - accuracy is {val_accuracy}.\")\n",
    "    accuracies.append({\"feature\": feature, \"accuracy\": val_accuracy})"
   ]
  },
  {
   "cell_type": "markdown",
   "metadata": {},
   "source": [
    "# Q5"
   ]
  },
  {
   "cell_type": "code",
   "execution_count": 48,
   "metadata": {},
   "outputs": [
    {
     "data": {
      "text/html": [
       "<div>\n",
       "<style scoped>\n",
       "    .dataframe tbody tr th:only-of-type {\n",
       "        vertical-align: middle;\n",
       "    }\n",
       "\n",
       "    .dataframe tbody tr th {\n",
       "        vertical-align: top;\n",
       "    }\n",
       "\n",
       "    .dataframe thead th {\n",
       "        text-align: right;\n",
       "    }\n",
       "</style>\n",
       "<table border=\"1\" class=\"dataframe\">\n",
       "  <thead>\n",
       "    <tr style=\"text-align: right;\">\n",
       "      <th></th>\n",
       "      <th>feature</th>\n",
       "      <th>accuracy</th>\n",
       "    </tr>\n",
       "  </thead>\n",
       "  <tbody>\n",
       "    <tr>\n",
       "      <th>7</th>\n",
       "      <td>median_income</td>\n",
       "      <td>0.785610</td>\n",
       "    </tr>\n",
       "    <tr>\n",
       "      <th>8</th>\n",
       "      <td>ocean_proximity</td>\n",
       "      <td>0.819767</td>\n",
       "    </tr>\n",
       "    <tr>\n",
       "      <th>5</th>\n",
       "      <td>population</td>\n",
       "      <td>0.826308</td>\n",
       "    </tr>\n",
       "    <tr>\n",
       "      <th>2</th>\n",
       "      <td>housing_median_age</td>\n",
       "      <td>0.831395</td>\n",
       "    </tr>\n",
       "    <tr>\n",
       "      <th>1</th>\n",
       "      <td>longitude</td>\n",
       "      <td>0.832607</td>\n",
       "    </tr>\n",
       "    <tr>\n",
       "      <th>6</th>\n",
       "      <td>households</td>\n",
       "      <td>0.832849</td>\n",
       "    </tr>\n",
       "    <tr>\n",
       "      <th>0</th>\n",
       "      <td>latitude</td>\n",
       "      <td>0.834302</td>\n",
       "    </tr>\n",
       "    <tr>\n",
       "      <th>10</th>\n",
       "      <td>bedrooms_per_room</td>\n",
       "      <td>0.835271</td>\n",
       "    </tr>\n",
       "    <tr>\n",
       "      <th>11</th>\n",
       "      <td>population_per_household</td>\n",
       "      <td>0.835514</td>\n",
       "    </tr>\n",
       "    <tr>\n",
       "      <th>3</th>\n",
       "      <td>total_rooms</td>\n",
       "      <td>0.836483</td>\n",
       "    </tr>\n",
       "    <tr>\n",
       "      <th>9</th>\n",
       "      <td>rooms_per_household</td>\n",
       "      <td>0.836483</td>\n",
       "    </tr>\n",
       "    <tr>\n",
       "      <th>4</th>\n",
       "      <td>total_bedrooms</td>\n",
       "      <td>0.837694</td>\n",
       "    </tr>\n",
       "  </tbody>\n",
       "</table>\n",
       "</div>"
      ],
      "text/plain": [
       "                     feature  accuracy\n",
       "7              median_income  0.785610\n",
       "8            ocean_proximity  0.819767\n",
       "5                 population  0.826308\n",
       "2         housing_median_age  0.831395\n",
       "1                  longitude  0.832607\n",
       "6                 households  0.832849\n",
       "0                   latitude  0.834302\n",
       "10         bedrooms_per_room  0.835271\n",
       "11  population_per_household  0.835514\n",
       "3                total_rooms  0.836483\n",
       "9        rooms_per_household  0.836483\n",
       "4             total_bedrooms  0.837694"
      ]
     },
     "execution_count": 48,
     "metadata": {},
     "output_type": "execute_result"
    }
   ],
   "source": [
    "pd.DataFrame(accuracies).sort_values(\"accuracy\")"
   ]
  },
  {
   "cell_type": "code",
   "execution_count": 49,
   "metadata": {},
   "outputs": [],
   "source": [
    "y_train_log = np.log1p(y_train.values)\n",
    "y_val_log = np.log1p(y_val.values)\n",
    "y_test_log = np.log1p(y_test.values)"
   ]
  },
  {
   "cell_type": "code",
   "execution_count": 50,
   "metadata": {},
   "outputs": [],
   "source": [
    "from sklearn.linear_model import Ridge"
   ]
  },
  {
   "cell_type": "code",
   "execution_count": 51,
   "metadata": {},
   "outputs": [],
   "source": [
    "X_train_arr = np.concatenate(\n",
    "    [X_train.drop(\"ocean_proximity\", axis=1).values, dv.transform(dicts_train)], axis=1\n",
    ")\n",
    "X_val_arr = np.concatenate(\n",
    "    [X_val.drop(\"ocean_proximity\", axis=1).values, dv.transform(dicts_val)], axis=1\n",
    ")\n",
    "X_test_arr = np.concatenate(\n",
    "    [X_test.drop(\"ocean_proximity\", axis=1).values, dv.transform(dicts_test)], axis=1\n",
    ")"
   ]
  },
  {
   "cell_type": "code",
   "execution_count": 52,
   "metadata": {},
   "outputs": [],
   "source": [
    "from sklearn.metrics import mean_squared_error"
   ]
  },
  {
   "cell_type": "markdown",
   "metadata": {},
   "source": [
    "# Q6"
   ]
  },
  {
   "cell_type": "code",
   "execution_count": 55,
   "metadata": {},
   "outputs": [
    {
     "data": {
      "text/plain": [
       "array([[  34.43, -119.67,   39.  , ...,    0.  ,    0.  ,    0.  ],\n",
       "       [  33.74, -118.32,   24.  , ...,    0.  ,    0.  ,    1.  ],\n",
       "       [  39.13, -121.62,   41.  , ...,    0.  ,    0.  ,    0.  ],\n",
       "       ...,\n",
       "       [  32.74, -116.99,   18.  , ...,    0.  ,    0.  ,    0.  ],\n",
       "       [  33.84, -117.87,   16.  , ...,    0.  ,    0.  ,    0.  ],\n",
       "       [  33.91, -118.32,   35.  , ...,    0.  ,    0.  ,    0.  ]])"
      ]
     },
     "execution_count": 55,
     "metadata": {},
     "output_type": "execute_result"
    }
   ],
   "source": [
    "X_train_arr"
   ]
  },
  {
   "cell_type": "code",
   "execution_count": 53,
   "metadata": {},
   "outputs": [
    {
     "name": "stdout",
     "output_type": "stream",
     "text": [
      "alpha 0, rmse 0.524063570701514\n",
      "alpha 0.01, rmse 0.524063570718629\n",
      "alpha 0.1, rmse 0.5240635708812071\n",
      "alpha 1, rmse 0.5240635725155536\n",
      "alpha 10, rmse 0.5240635888333284\n"
     ]
    }
   ],
   "source": [
    "for alpha in [0, 0.01, 0.1, 1, 10]:\n",
    "    model = Ridge(alpha=alpha, solver=\"sag\", random_state=42)\n",
    "    model.fit(X_train_arr, y_train_log)\n",
    "    val_rmse = mean_squared_error(model.predict(X_val_arr), y_val_log, squared=False)\n",
    "\n",
    "    print(f\"alpha {alpha}, rmse {val_rmse}\")"
   ]
  }
 ],
 "metadata": {
  "kernelspec": {
   "display_name": "Python 3.9.13 ('ml-zoomcamp')",
   "language": "python",
   "name": "python3"
  },
  "language_info": {
   "codemirror_mode": {
    "name": "ipython",
    "version": 3
   },
   "file_extension": ".py",
   "mimetype": "text/x-python",
   "name": "python",
   "nbconvert_exporter": "python",
   "pygments_lexer": "ipython3",
   "version": "3.9.13"
  },
  "orig_nbformat": 4,
  "vscode": {
   "interpreter": {
    "hash": "137e866a0f77783218e2f2090cc55f50e185b008ae9e632381fe63d430e97457"
   }
  }
 },
 "nbformat": 4,
 "nbformat_minor": 2
}
